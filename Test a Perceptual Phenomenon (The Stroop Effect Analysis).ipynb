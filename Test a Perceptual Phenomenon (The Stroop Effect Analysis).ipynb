{
 "cells": [
  {
   "attachments": {},
   "cell_type": "markdown",
   "metadata": {},
   "source": [
    "#  Stroop Effect Analysis\n",
    "\n",
    "## Table of Contents\n",
    "- [Introduction](#intro)\n",
    "- [Analysis](#analysis)\n",
    "- [Conclusion](#conclusion)\n",
    "- [References](#eeferences)\n",
    "\n",
    "\n",
    "<a id='intro'></a>\n",
    "## Introduction\n",
    "A classic phenomenon from experimental psychology called the Stroop Effect is investigated. A hypothesis regarding the outcome of the task is presented. Some data collected from others who have performed the same task is investigated, and some statistics describing the results are computed. Finally, results in terms of the hypotheses are interpretd.\n",
    "\n",
    "![image.png](http://res.cloudinary.com/hrscywv4p/image/upload/c_limit,f_auto,h_2000,q_90,w_1200/v1/107158/Stroop_Test_2_t071jx.jpg)"
   ]
  },
  {
   "cell_type": "markdown",
   "metadata": {},
   "source": [
    "<a id='analysis'></a>\n",
    "## Analysis\n",
    "\n",
    "* The **independent variable** is the type of test whether congruent or incogruent, and the **dependent variable** is the time it takes to recognize/name the colors of the mismatch word/color congruency in seconds.\n",
    "\n",
    "\n",
    "* An appropriate set of hypotheses for this task:\n",
    "\n",
    "  **μC:** Congruent sample's response time mean\n",
    "\n",
    "  **μI:** Incongruent sample's response time mean\n",
    "\n",
    "  **Set of hypotheses:**\n",
    "    * The null hypothesis: The congruent and incongruent populations are not different in the time needed to read the text.\n",
    "\n",
    "      **H0: μC − μI = 0**\n",
    "    * The alternative hypothesis: The congruent and incongruent populations are different in the time needed to read the text.\n",
    "\n",
    "      **HA: μC − μI ≠ 0**\n",
    "\n",
    "\n",
    "* The sample size is 24 participants who performed the tests under two different conditionspoints; the congruent word condition and the incongruent word condition. Therefore, we will conduct a dependent T-Test on the paired samples, which is usually done when collecting data twice for the same person [1].\n",
    "\n",
    "\n",
    "* Descriptive statistics including a measure of central tendency and a measure of variability are performed."
   ]
  },
  {
   "cell_type": "code",
   "execution_count": 40,
   "metadata": {},
   "outputs": [
    {
     "data": {
      "text/html": [
       "<div>\n",
       "<style>\n",
       "    .dataframe thead tr:only-child th {\n",
       "        text-align: right;\n",
       "    }\n",
       "\n",
       "    .dataframe thead th {\n",
       "        text-align: left;\n",
       "    }\n",
       "\n",
       "    .dataframe tbody tr th {\n",
       "        vertical-align: top;\n",
       "    }\n",
       "</style>\n",
       "<table border=\"1\" class=\"dataframe\">\n",
       "  <thead>\n",
       "    <tr style=\"text-align: right;\">\n",
       "      <th></th>\n",
       "      <th>Congruent</th>\n",
       "      <th>Incongruent</th>\n",
       "    </tr>\n",
       "  </thead>\n",
       "  <tbody>\n",
       "    <tr>\n",
       "      <th>0</th>\n",
       "      <td>12.079</td>\n",
       "      <td>19.278</td>\n",
       "    </tr>\n",
       "    <tr>\n",
       "      <th>1</th>\n",
       "      <td>16.791</td>\n",
       "      <td>18.741</td>\n",
       "    </tr>\n",
       "    <tr>\n",
       "      <th>2</th>\n",
       "      <td>9.564</td>\n",
       "      <td>21.214</td>\n",
       "    </tr>\n",
       "    <tr>\n",
       "      <th>3</th>\n",
       "      <td>8.630</td>\n",
       "      <td>15.687</td>\n",
       "    </tr>\n",
       "    <tr>\n",
       "      <th>4</th>\n",
       "      <td>14.669</td>\n",
       "      <td>22.803</td>\n",
       "    </tr>\n",
       "  </tbody>\n",
       "</table>\n",
       "</div>"
      ],
      "text/plain": [
       "   Congruent  Incongruent\n",
       "0     12.079       19.278\n",
       "1     16.791       18.741\n",
       "2      9.564       21.214\n",
       "3      8.630       15.687\n",
       "4     14.669       22.803"
      ]
     },
     "execution_count": 40,
     "metadata": {},
     "output_type": "execute_result"
    }
   ],
   "source": [
    "# import libraries\n",
    "import matplotlib.pyplot as plt\n",
    "import pandas as pd\n",
    "import numpy as np\n",
    "import scipy.stats as stats\n",
    "\n",
    "# to render plots inline\n",
    "%matplotlib inline\n",
    "\n",
    "data = pd.read_csv(\"stroopdata.csv\")\n",
    "data.head()"
   ]
  },
  {
   "cell_type": "code",
   "execution_count": 5,
   "metadata": {},
   "outputs": [
    {
     "data": {
      "text/html": [
       "<div>\n",
       "<style>\n",
       "    .dataframe thead tr:only-child th {\n",
       "        text-align: right;\n",
       "    }\n",
       "\n",
       "    .dataframe thead th {\n",
       "        text-align: left;\n",
       "    }\n",
       "\n",
       "    .dataframe tbody tr th {\n",
       "        vertical-align: top;\n",
       "    }\n",
       "</style>\n",
       "<table border=\"1\" class=\"dataframe\">\n",
       "  <thead>\n",
       "    <tr style=\"text-align: right;\">\n",
       "      <th></th>\n",
       "      <th>Congruent</th>\n",
       "      <th>Incongruent</th>\n",
       "    </tr>\n",
       "  </thead>\n",
       "  <tbody>\n",
       "    <tr>\n",
       "      <th>count</th>\n",
       "      <td>24.000000</td>\n",
       "      <td>24.000000</td>\n",
       "    </tr>\n",
       "    <tr>\n",
       "      <th>mean</th>\n",
       "      <td>14.051125</td>\n",
       "      <td>22.015917</td>\n",
       "    </tr>\n",
       "    <tr>\n",
       "      <th>std</th>\n",
       "      <td>3.559358</td>\n",
       "      <td>4.797057</td>\n",
       "    </tr>\n",
       "    <tr>\n",
       "      <th>min</th>\n",
       "      <td>8.630000</td>\n",
       "      <td>15.687000</td>\n",
       "    </tr>\n",
       "    <tr>\n",
       "      <th>25%</th>\n",
       "      <td>11.895250</td>\n",
       "      <td>18.716750</td>\n",
       "    </tr>\n",
       "    <tr>\n",
       "      <th>50%</th>\n",
       "      <td>14.356500</td>\n",
       "      <td>21.017500</td>\n",
       "    </tr>\n",
       "    <tr>\n",
       "      <th>75%</th>\n",
       "      <td>16.200750</td>\n",
       "      <td>24.051500</td>\n",
       "    </tr>\n",
       "    <tr>\n",
       "      <th>max</th>\n",
       "      <td>22.328000</td>\n",
       "      <td>35.255000</td>\n",
       "    </tr>\n",
       "  </tbody>\n",
       "</table>\n",
       "</div>"
      ],
      "text/plain": [
       "       Congruent  Incongruent\n",
       "count  24.000000    24.000000\n",
       "mean   14.051125    22.015917\n",
       "std     3.559358     4.797057\n",
       "min     8.630000    15.687000\n",
       "25%    11.895250    18.716750\n",
       "50%    14.356500    21.017500\n",
       "75%    16.200750    24.051500\n",
       "max    22.328000    35.255000"
      ]
     },
     "execution_count": 5,
     "metadata": {},
     "output_type": "execute_result"
    }
   ],
   "source": [
    "# get descriptive statistics on the data\n",
    "data.describe()"
   ]
  },
  {
   "cell_type": "markdown",
   "metadata": {},
   "source": [
    "* The sample size is 24\n",
    "\n",
    "**Congruent Sample**:\n",
    "* mean of 14.05 seconds\n",
    "* standard deviation of 3.56 seconds\n",
    "\n",
    "**Incongruent Sample**:\n",
    "* mean of 22.02 seconds\n",
    "* standard deviation of 4.80 seconds"
   ]
  },
  {
   "cell_type": "markdown",
   "metadata": {},
   "source": [
    "Two visualizations that showing the distribution of the sample data."
   ]
  },
  {
   "cell_type": "code",
   "execution_count": 13,
   "metadata": {},
   "outputs": [
    {
     "data": {
      "image/png": "[encoded data removed]",
      "text/plain": [
       "<matplotlib.figure.Figure at 0x110a085f8>"
      ]
     },
     "metadata": {},
     "output_type": "display_data"
    }
   ],
   "source": [
    "# Histogram of the congruent sample\n",
    "plt.figure(figsize=(8,4))\n",
    "    \n",
    "plt.hist(data['Congruent'], color='lightblue')\n",
    "\n",
    "plt.title('Congruent Sample Distribution')\n",
    "plt.xlabel('Reaction Time (seconds)')\n",
    "plt.ylabel('Frequency')\n",
    "\n",
    "plt.show()"
   ]
  },
  {
   "cell_type": "markdown",
   "metadata": {},
   "source": [
    "The congruent reaction times show a normal distribution where most participants have completed the test in around 15 seconds, which is close to the mean 14 secons."
   ]
  },
  {
   "cell_type": "code",
   "execution_count": 11,
   "metadata": {},
   "outputs": [
    {
     "data": {
      "image/png": "[encoded data removed]",
      "text/plain": [
       "<matplotlib.figure.Figure at 0x1107d26d8>"
      ]
     },
     "metadata": {},
     "output_type": "display_data"
    }
   ],
   "source": [
    "# Histogram of the congruent sample\n",
    "plt.figure(figsize=(8,4))\n",
    "    \n",
    "plt.hist(data['Incongruent'], color='pink')\n",
    "\n",
    "plt.title('Incongruent Sample Distribution')\n",
    "plt.xlabel('Reaction Time (seconds)')\n",
    "plt.ylabel('Frequency')\n",
    "\n",
    "plt.show()"
   ]
  },
  {
   "cell_type": "markdown",
   "metadata": {},
   "source": [
    "The Incongruent reaction times show a distribution skewed to the right where most participants have completed the test in around 20-21 seconds, which is close to the mean 22 seconds. The plot also shows some outliers completing the test in around 35 seconds."
   ]
  },
  {
   "cell_type": "markdown",
   "metadata": {},
   "source": [
    "Statistical test is performed, including:\n",
    "* Confidence level / Type I error associated with the test\n",
    "* Conclusion regarding the hypotheses setup, and whether the results matchup with the expectations"
   ]
  },
  {
   "cell_type": "code",
   "execution_count": 41,
   "metadata": {},
   "outputs": [
    {
     "data": {
      "text/plain": [
       "Congruent      3.559358\n",
       "Incongruent    4.797057\n",
       "dtype: float64"
      ]
     },
     "execution_count": 41,
     "metadata": {},
     "output_type": "execute_result"
    }
   ],
   "source": [
    "# Perform the T-Test statistical test to explore the data\n",
    "\n",
    "# Calculate the standard deviantion\n",
    "SD = data.std()\n",
    "SD"
   ]
  },
  {
   "cell_type": "code",
   "execution_count": 42,
   "metadata": {},
   "outputs": [
    {
     "name": "stdout",
     "output_type": "stream",
     "text": [
      "t-Statistic(df):  -8.02070694411\n",
      "p-value:  4.10300058571e-08\n"
     ]
    }
   ],
   "source": [
    "# Calculate the t-statistic and p-value\n",
    "statistic, p_value = stats.ttest_rel(a = data['Congruent'], b = data['Incongruent'])\n",
    "print(\"t-statistic(df): \", statistic)\n",
    "print(\"p-value: \", p_value)"
   ]
  },
  {
   "cell_type": "code",
   "execution_count": 43,
   "metadata": {},
   "outputs": [
    {
     "name": "stdout",
     "output_type": "stream",
     "text": [
      "t-critical values:  -2.80733568377\n",
      "Alpha-level:  0.005\n"
     ]
    }
   ],
   "source": [
    "# Clacute t-critical for alpha level 0.005, i.e. 99% confidence level\n",
    "tcritical = stats.t.ppf(0.005, 23)\n",
    "print(\"t-critical values: \", tcritical)\n",
    "print(\"alpha-level: \", 0.005)"
   ]
  },
  {
   "cell_type": "markdown",
   "metadata": {},
   "source": [
    "<a id='conclusion'></a>\n",
    "## Conclusion\n",
    "\n",
    "The t-Statistic is smaller than the t-critical value. Thus, the test concludes that there is a significant difference between the two populations. Therefore, we reject the null hypothesis that there is no statistically significant difference between the two populations, and accept the alternative hypotheses concluding that there is a significant difference in the values for congruent and incongruent tests. This does not come as a surprise since from the beginning there was a strong evidence that the two groups were not the same when considering the difference of the values for each participant.\n",
    "\n",
    "\n",
    "<a id='references'></a>\n",
    "## References\n",
    "1. www.statisticshowto.datasciencecentral.com/probability-and-statistics"
   ]
  }
 ],
 "metadata": {
  "kernelspec": {
   "display_name": "Python 3",
   "language": "python",
   "name": "python3"
  },
  "language_info": {
   "codemirror_mode": {
    "name": "ipython",
    "version": 3
   },
   "file_extension": ".py",
   "mimetype": "text/x-python",
   "name": "python",
   "nbconvert_exporter": "python",
   "pygments_lexer": "ipython3",
   "version": "3.6.3"
  }
 },
 "nbformat": 4,
 "nbformat_minor": 2
}
